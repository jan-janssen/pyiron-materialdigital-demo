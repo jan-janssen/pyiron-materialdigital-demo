{
 "cells": [
  {
   "cell_type": "code",
   "execution_count": 1,
   "id": "58747ee0",
   "metadata": {},
   "outputs": [],
   "source": [
    "from pyiron_base import Project"
   ]
  },
  {
   "cell_type": "code",
   "execution_count": 2,
   "id": "d98fafb8",
   "metadata": {},
   "outputs": [
    {
     "data": {
      "application/vnd.jupyter.widget-view+json": {
       "model_id": "174ad91cd94e49feb9b40884c52d1809",
       "version_major": 2,
       "version_minor": 0
      },
      "text/plain": [
       "  0%|          | 0/1 [00:00<?, ?it/s]"
      ]
     },
     "metadata": {},
     "output_type": "display_data"
    }
   ],
   "source": [
    "pr = Project(\"test\")\n",
    "pr.remove_jobs(recursive=True, silently=True)"
   ]
  },
  {
   "cell_type": "code",
   "execution_count": 3,
   "id": "edb400f2",
   "metadata": {},
   "outputs": [
    {
     "data": {
      "application/json": {
       "a": "1",
       "b": "[1, 2, 3]"
      },
      "text/html": [
       "<pre>DataContainer({\n",
       "  \"a\": \"1\",\n",
       "  \"b\": \"[1, 2, 3]\"\n",
       "})</pre>"
      ],
      "text/plain": [
       "DataContainer({'a': 1, 'b': [1, 2, 3]})"
      ]
     },
     "execution_count": 3,
     "metadata": {},
     "output_type": "execute_result"
    }
   ],
   "source": [
    "job = pr.create.job.MydynamicJob(\"dynamic\")\n",
    "job.input"
   ]
  },
  {
   "cell_type": "code",
   "execution_count": 4,
   "id": "1dafb72c",
   "metadata": {},
   "outputs": [
    {
     "data": {
      "text/plain": [
       "'/Users/jan/pyiron/resources/dynamic/MydynamicJob/bin/run_mydynamicjob_0.0.1.sh'"
      ]
     },
     "execution_count": 4,
     "metadata": {},
     "output_type": "execute_result"
    }
   ],
   "source": [
    "job.executable"
   ]
  },
  {
   "cell_type": "code",
   "execution_count": 5,
   "id": "37d34243",
   "metadata": {},
   "outputs": [
    {
     "name": "stdout",
     "output_type": "stream",
     "text": [
      "The job dynamic was saved and received the ID: dynamic\n"
     ]
    }
   ],
   "source": [
    "job.run()"
   ]
  },
  {
   "cell_type": "code",
   "execution_count": 6,
   "id": "d07d10fd",
   "metadata": {},
   "outputs": [
    {
     "data": {
      "application/json": {
       "a": "1",
       "b": "[1, 2, 3]"
      },
      "text/html": [
       "<pre>DataContainer({\n",
       "  \"a\": \"1\",\n",
       "  \"b\": \"[1, 2, 3]\"\n",
       "})</pre>"
      ],
      "text/plain": [
       "DataContainer({'a': 1, 'b': [1, 2, 3]})"
      ]
     },
     "execution_count": 6,
     "metadata": {},
     "output_type": "execute_result"
    }
   ],
   "source": [
    "job.output"
   ]
  },
  {
   "cell_type": "code",
   "execution_count": 7,
   "id": "818cc12f",
   "metadata": {},
   "outputs": [
    {
     "data": {
      "text/html": [
       "<div>\n",
       "<style scoped>\n",
       "    .dataframe tbody tr th:only-of-type {\n",
       "        vertical-align: middle;\n",
       "    }\n",
       "\n",
       "    .dataframe tbody tr th {\n",
       "        vertical-align: top;\n",
       "    }\n",
       "\n",
       "    .dataframe thead th {\n",
       "        text-align: right;\n",
       "    }\n",
       "</style>\n",
       "<table border=\"1\" class=\"dataframe\">\n",
       "  <thead>\n",
       "    <tr style=\"text-align: right;\">\n",
       "      <th></th>\n",
       "      <th>id</th>\n",
       "      <th>status</th>\n",
       "      <th>chemicalformula</th>\n",
       "      <th>job</th>\n",
       "      <th>subjob</th>\n",
       "      <th>projectpath</th>\n",
       "      <th>project</th>\n",
       "      <th>timestart</th>\n",
       "      <th>timestop</th>\n",
       "      <th>totalcputime</th>\n",
       "      <th>computer</th>\n",
       "      <th>hamilton</th>\n",
       "      <th>hamversion</th>\n",
       "      <th>parentid</th>\n",
       "      <th>masterid</th>\n",
       "      <th>username</th>\n",
       "    </tr>\n",
       "  </thead>\n",
       "  <tbody>\n",
       "    <tr>\n",
       "      <th>0</th>\n",
       "      <td>1</td>\n",
       "      <td>finished</td>\n",
       "      <td>None</td>\n",
       "      <td>dynamic</td>\n",
       "      <td>/dynamic</td>\n",
       "      <td>None</td>\n",
       "      <td>/Users/jan/pyiron/projects/2022/2022-03-08-dynamicjob/test/</td>\n",
       "      <td>2022-03-08 10:07:19.695610</td>\n",
       "      <td>2022-03-08 10:07:19.695610</td>\n",
       "      <td>0.0</td>\n",
       "      <td>None</td>\n",
       "      <td>MydynamicJob</td>\n",
       "      <td>0.4</td>\n",
       "      <td>None</td>\n",
       "      <td>None</td>\n",
       "      <td>None</td>\n",
       "    </tr>\n",
       "  </tbody>\n",
       "</table>\n",
       "</div>"
      ],
      "text/plain": [
       "   id    status chemicalformula      job    subjob projectpath  \\\n",
       "0   1  finished            None  dynamic  /dynamic        None   \n",
       "\n",
       "                                                       project  \\\n",
       "0  /Users/jan/pyiron/projects/2022/2022-03-08-dynamicjob/test/   \n",
       "\n",
       "                   timestart                   timestop  totalcputime  \\\n",
       "0 2022-03-08 10:07:19.695610 2022-03-08 10:07:19.695610           0.0   \n",
       "\n",
       "  computer      hamilton hamversion parentid masterid username  \n",
       "0     None  MydynamicJob        0.4     None     None     None  "
      ]
     },
     "execution_count": 7,
     "metadata": {},
     "output_type": "execute_result"
    }
   ],
   "source": [
    "pr.job_table()"
   ]
  },
  {
   "cell_type": "code",
   "execution_count": 8,
   "id": "1f873707",
   "metadata": {},
   "outputs": [],
   "source": [
    "job_reload = pr.load(job.job_name)"
   ]
  },
  {
   "cell_type": "code",
   "execution_count": 9,
   "id": "d77da2f9",
   "metadata": {},
   "outputs": [
    {
     "data": {
      "application/json": {
       "a": "1",
       "b": "[1, 2, 3]"
      },
      "text/html": [
       "<pre>DataContainer({\n",
       "  \"a\": \"1\",\n",
       "  \"b\": \"[1, 2, 3]\"\n",
       "})</pre>"
      ],
      "text/plain": [
       "DataContainer({'a': 1, 'b': [1, 2, 3]})"
      ]
     },
     "execution_count": 9,
     "metadata": {},
     "output_type": "execute_result"
    }
   ],
   "source": [
    "job_reload.output"
   ]
  },
  {
   "cell_type": "code",
   "execution_count": null,
   "id": "1f6e2863",
   "metadata": {},
   "outputs": [],
   "source": []
  }
 ],
 "metadata": {
  "kernelspec": {
   "display_name": "Python 3 (ipykernel)",
   "language": "python",
   "name": "python3"
  },
  "language_info": {
   "codemirror_mode": {
    "name": "ipython",
    "version": 3
   },
   "file_extension": ".py",
   "mimetype": "text/x-python",
   "name": "python",
   "nbconvert_exporter": "python",
   "pygments_lexer": "ipython3",
   "version": "3.10.2"
  }
 },
 "nbformat": 4,
 "nbformat_minor": 5
}
